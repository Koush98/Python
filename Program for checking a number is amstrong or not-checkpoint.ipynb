{
 "cells": [
  {
   "cell_type": "markdown",
   "id": "af3b6c1d",
   "metadata": {},
   "source": [
    "# Program for checking a number is amstrong or not"
   ]
  },
  {
   "cell_type": "code",
   "execution_count": 1,
   "id": "5b766a5f",
   "metadata": {},
   "outputs": [
    {
     "name": "stdout",
     "output_type": "stream",
     "text": [
      "input a number 153\n",
      "153 Is an Amstrong number\n"
     ]
    }
   ],
   "source": [
    "x=int(input(\"input a number \"))\n",
    "str_x=str(x)\n",
    "len_x=len(str_x)\n",
    "amstrong_sum=0\n",
    "for digit in str_x:\n",
    "    amstrong_sum+=int(digit)**len_x\n",
    "if amstrong_sum==x:\n",
    "    print(x,\"Is an Amstrong number\")\n",
    "else:\n",
    "    print(x,\"Is not an Amstrong\")"
   ]
  },
  {
   "cell_type": "code",
   "execution_count": null,
   "id": "6cf5a5ca",
   "metadata": {},
   "outputs": [],
   "source": []
  }
 ],
 "metadata": {
  "kernelspec": {
   "display_name": "Python 3 (ipykernel)",
   "language": "python",
   "name": "python3"
  },
  "language_info": {
   "codemirror_mode": {
    "name": "ipython",
    "version": 3
   },
   "file_extension": ".py",
   "mimetype": "text/x-python",
   "name": "python",
   "nbconvert_exporter": "python",
   "pygments_lexer": "ipython3",
   "version": "3.11.4"
  }
 },
 "nbformat": 4,
 "nbformat_minor": 5
}
