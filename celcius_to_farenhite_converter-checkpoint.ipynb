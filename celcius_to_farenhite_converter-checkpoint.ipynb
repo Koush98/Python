{
 "cells": [
  {
   "cell_type": "code",
   "execution_count": 2,
   "id": "89a3be16",
   "metadata": {},
   "outputs": [
    {
     "name": "stdout",
     "output_type": "stream",
     "text": [
      "Enter the temparature in celcius80\n",
      "Temparature in Farenhite 176.0 F\n"
     ]
    }
   ],
   "source": [
    "c= float(input(\"Enter the temparature in celcius\"))\n",
    "f= (c*9/5)+32\n",
    "print(\"Temparature in Farenhite\",f,\"F\")"
   ]
  },
  {
   "cell_type": "code",
   "execution_count": null,
   "id": "7961ac80",
   "metadata": {},
   "outputs": [],
   "source": []
  }
 ],
 "metadata": {
  "kernelspec": {
   "display_name": "Python 3 (ipykernel)",
   "language": "python",
   "name": "python3"
  },
  "language_info": {
   "codemirror_mode": {
    "name": "ipython",
    "version": 3
   },
   "file_extension": ".py",
   "mimetype": "text/x-python",
   "name": "python",
   "nbconvert_exporter": "python",
   "pygments_lexer": "ipython3",
   "version": "3.11.4"
  }
 },
 "nbformat": 4,
 "nbformat_minor": 5
}
