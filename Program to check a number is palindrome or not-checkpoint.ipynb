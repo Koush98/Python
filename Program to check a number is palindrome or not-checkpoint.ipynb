{
 "cells": [
  {
   "cell_type": "code",
   "execution_count": 7,
   "id": "9e09a91b",
   "metadata": {},
   "outputs": [
    {
     "name": "stdout",
     "output_type": "stream",
     "text": [
      "Input a number15351\n",
      "The number is a palindrome\n"
     ]
    }
   ],
   "source": [
    "num=int(input(\"Input a number\"))\n",
    "if str(num)==str(num)[::-1]:\n",
    "    print(\"The number is a palindrome\")\n",
    "else:\n",
    "    print(\"The number is not a palindrome\")"
   ]
  },
  {
   "cell_type": "code",
   "execution_count": 6,
   "id": "10d9920f",
   "metadata": {},
   "outputs": [
    {
     "name": "stdout",
     "output_type": "stream",
     "text": [
      "879\n"
     ]
    }
   ],
   "source": [
    "x=978\n",
    "y=str(x)[::-1]\n",
    "print(y)"
   ]
  },
  {
   "cell_type": "code",
   "execution_count": 3,
   "id": "1c1c1c2a",
   "metadata": {},
   "outputs": [
    {
     "name": "stdout",
     "output_type": "stream",
     "text": [
      "1\n",
      "2\n",
      "1\n",
      "2 is the largest number\n"
     ]
    }
   ],
   "source": [
    "x=int(input())\n",
    "y=int(input())\n",
    "z=int(input())\n",
    "if (x>y and x>z):\n",
    "    print(x,\"is the largest number\")\n",
    "elif(y>x and y>z):\n",
    "    print(y,\"is the largest number\")\n",
    "elif(z>x and z>y):\n",
    "    print(z,\"is the largest number\")"
   ]
  },
  {
   "cell_type": "code",
   "execution_count": null,
   "id": "bb0c864a",
   "metadata": {},
   "outputs": [],
   "source": []
  },
  {
   "cell_type": "code",
   "execution_count": null,
   "id": "58899760",
   "metadata": {},
   "outputs": [],
   "source": []
  }
 ],
 "metadata": {
  "kernelspec": {
   "display_name": "Python 3 (ipykernel)",
   "language": "python",
   "name": "python3"
  },
  "language_info": {
   "codemirror_mode": {
    "name": "ipython",
    "version": 3
   },
   "file_extension": ".py",
   "mimetype": "text/x-python",
   "name": "python",
   "nbconvert_exporter": "python",
   "pygments_lexer": "ipython3",
   "version": "3.11.4"
  }
 },
 "nbformat": 4,
 "nbformat_minor": 5
}
