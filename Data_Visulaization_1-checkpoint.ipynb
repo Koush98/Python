{
 "cells": [
  {
   "cell_type": "code",
   "execution_count": null,
   "id": "f7721026",
   "metadata": {},
   "outputs": [],
   "source": [
    "#matplotlib  to create 2d graphs and plots\n",
    "#Pandas visulaization easy to use interface, built on Matplotlib\n",
    "#seaborn provides a high-level interface fo9r drawing attractive and informative statistical graphics\n",
    "#ggplot based on R's ggplot2, uses Grammar of graphics\n",
    "#plotly can create interactive plots"
   ]
  },
  {
   "cell_type": "markdown",
   "id": "d8b9ebaa",
   "metadata": {},
   "source": [
    "# Scatter Plot"
   ]
  },
  {
   "cell_type": "markdown",
   "id": "312b225d",
   "metadata": {},
   "source": [
    "\n",
    "What is a scatter plot?\n",
    "A scatter plotis a set of points that represents the values obvtained for two differrent variables plotted on horizontal and vertical axes."
   ]
  },
  {
   "cell_type": "raw",
   "id": "43f065d5",
   "metadata": {},
   "source": [
    "When to use scatter plots?\n",
    "Scatter plots are used to convey the relationship between two numerical variables\n",
    "Scatter plots are sometimes called correlation plots because they show how two variables are correlated\n"
   ]
  },
  {
   "cell_type": "code",
   "execution_count": 4,
   "id": "48651f07",
   "metadata": {},
   "outputs": [],
   "source": [
    "import pandas as pd\n",
    "import numpy as np\n",
    "import matplotlib.pyplot as plt"
   ]
  },
  {
   "cell_type": "code",
   "execution_count": 5,
   "id": "db11f641",
   "metadata": {},
   "outputs": [],
   "source": [
    "#reading Data sets\n",
    "x=pd.read_csv('C:\\\\Users\\\\Admin\\\\Desktop\\\\koushik\\\\data_sets\\\\ds_masters_usa.csv')\n",
    "#Create copy of the Data_set\n",
    "samp=x.copy(deep=True)"
   ]
  },
  {
   "cell_type": "code",
   "execution_count": 6,
   "id": "0d15a4d2",
   "metadata": {},
   "outputs": [
    {
     "data": {
      "text/html": [
       "<div>\n",
       "<style scoped>\n",
       "    .dataframe tbody tr th:only-of-type {\n",
       "        vertical-align: middle;\n",
       "    }\n",
       "\n",
       "    .dataframe tbody tr th {\n",
       "        vertical-align: top;\n",
       "    }\n",
       "\n",
       "    .dataframe thead th {\n",
       "        text-align: right;\n",
       "    }\n",
       "</style>\n",
       "<table border=\"1\" class=\"dataframe\">\n",
       "  <thead>\n",
       "    <tr style=\"text-align: right;\">\n",
       "      <th></th>\n",
       "      <th>Subject Name</th>\n",
       "      <th>University Name</th>\n",
       "      <th>Per Year Fees in EUR</th>\n",
       "      <th>Program Name</th>\n",
       "      <th>Unnamed: 4</th>\n",
       "    </tr>\n",
       "  </thead>\n",
       "  <tbody>\n",
       "    <tr>\n",
       "      <th>0</th>\n",
       "      <td>Data Science for Business Leaders</td>\n",
       "      <td>Udacity</td>\n",
       "      <td>218</td>\n",
       "      <td>Pre-Master / Part-time / Online</td>\n",
       "      <td>NaN</td>\n",
       "    </tr>\n",
       "    <tr>\n",
       "      <th>1</th>\n",
       "      <td>Data Science MicroMasters Program</td>\n",
       "      <td>edX - online learning platform</td>\n",
       "      <td>1,163</td>\n",
       "      <td>Pre-Master / Part-time / Online</td>\n",
       "      <td>NaN</td>\n",
       "    </tr>\n",
       "  </tbody>\n",
       "</table>\n",
       "</div>"
      ],
      "text/plain": [
       "                        Subject Name                 University Name  \\\n",
       "0  Data Science for Business Leaders                         Udacity   \n",
       "1  Data Science MicroMasters Program  edX - online learning platform   \n",
       "\n",
       "  Per Year Fees in EUR                     Program Name  Unnamed: 4  \n",
       "0                  218  Pre-Master / Part-time / Online         NaN  \n",
       "1                1,163  Pre-Master / Part-time / Online         NaN  "
      ]
     },
     "execution_count": 6,
     "metadata": {},
     "output_type": "execute_result"
    }
   ],
   "source": [
    "samp.head(2)"
   ]
  },
  {
   "cell_type": "code",
   "execution_count": null,
   "id": "1c2460bc",
   "metadata": {},
   "outputs": [],
   "source": []
  }
 ],
 "metadata": {
  "kernelspec": {
   "display_name": "Python 3 (ipykernel)",
   "language": "python",
   "name": "python3"
  },
  "language_info": {
   "codemirror_mode": {
    "name": "ipython",
    "version": 3
   },
   "file_extension": ".py",
   "mimetype": "text/x-python",
   "name": "python",
   "nbconvert_exporter": "python",
   "pygments_lexer": "ipython3",
   "version": "3.11.4"
  }
 },
 "nbformat": 4,
 "nbformat_minor": 5
}
