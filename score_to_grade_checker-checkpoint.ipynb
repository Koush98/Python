{
 "cells": [
  {
   "cell_type": "code",
   "execution_count": 1,
   "id": "52996c90",
   "metadata": {},
   "outputs": [
    {
     "name": "stdout",
     "output_type": "stream",
     "text": [
      "Enter the student's score: 73\n",
      "Your Grade is B\n"
     ]
    }
   ],
   "source": [
    "score = float(input(\"Enter the student's score: \"))\n",
    "\n",
    "if score < 0 or score >100:\n",
    "   print(\"Invalid score. Please enter a score between 0 and 100.\")\n",
    "else:\n",
    "    if score >= 90:\n",
    "        grade = \"A\"\n",
    "    elif score >=80:\n",
    "        grade = \"B+\"\n",
    "    elif score >=60:\n",
    "        grade = \"B\"\n",
    "    elif score >= 40:\n",
    "        grade =\"C\"\n",
    "    else:\n",
    "        grade= \"D\"\n",
    "    print(\"Your Grade is\",grade)"
   ]
  },
  {
   "cell_type": "code",
   "execution_count": null,
   "id": "686d4755",
   "metadata": {},
   "outputs": [],
   "source": []
  },
  {
   "cell_type": "code",
   "execution_count": null,
   "id": "a937e781",
   "metadata": {},
   "outputs": [],
   "source": []
  }
 ],
 "metadata": {
  "kernelspec": {
   "display_name": "Python 3 (ipykernel)",
   "language": "python",
   "name": "python3"
  },
  "language_info": {
   "codemirror_mode": {
    "name": "ipython",
    "version": 3
   },
   "file_extension": ".py",
   "mimetype": "text/x-python",
   "name": "python",
   "nbconvert_exporter": "python",
   "pygments_lexer": "ipython3",
   "version": "3.11.4"
  }
 },
 "nbformat": 4,
 "nbformat_minor": 5
}
