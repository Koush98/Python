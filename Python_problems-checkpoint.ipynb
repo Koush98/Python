{
 "cells": [
  {
   "cell_type": "markdown",
   "id": "71bdf7a2",
   "metadata": {},
   "source": [
    "# 1) Code for reversing a list"
   ]
  },
  {
   "cell_type": "markdown",
   "id": "451dc9f0",
   "metadata": {},
   "source": [
    "For reversing a list we can use .reverse() method"
   ]
  },
  {
   "cell_type": "code",
   "execution_count": 6,
   "id": "d4618e68",
   "metadata": {},
   "outputs": [
    {
     "data": {
      "text/plain": [
       "['Amitabh', 'Mejaanur', 'Sabir', 'Soudip', 'Koushik']"
      ]
     },
     "execution_count": 6,
     "metadata": {},
     "output_type": "execute_result"
    }
   ],
   "source": [
    "x=[\"Koushik\",\"Soudip\",\"Sabir\",\"Mejaanur\",\"Amitabh\"]\n",
    "x.reverse()\n",
    "print(x)\n"
   ]
  },
  {
   "cell_type": "markdown",
   "id": "f4ecb6e5",
   "metadata": {},
   "source": [
    "# 2) Removing even numbers from a list\n"
   ]
  },
  {
   "cell_type": "code",
   "execution_count": 5,
   "id": "1ad4d804",
   "metadata": {},
   "outputs": [
    {
     "name": "stdout",
     "output_type": "stream",
     "text": [
      "[1, 5, 43, 23, 63, 77, 45, 45, 33, 25]\n"
     ]
    }
   ],
   "source": [
    "a=[1,5,43,54,23,34,63,98,77,76,36,45,90,45,33,32,30,25,24,26]\n",
    "y=[x for x in a if x % 2 !=0]\n",
    "print(y)"
   ]
  },
  {
   "cell_type": "markdown",
   "id": "0f658d1f",
   "metadata": {},
   "source": [
    "# 3) Check if any number is in the list or not\n"
   ]
  },
  {
   "cell_type": "code",
   "execution_count": 7,
   "id": "33e14e27",
   "metadata": {},
   "outputs": [
    {
     "name": "stdout",
     "output_type": "stream",
     "text": [
      "Input any number7\n",
      "7 The number is not in the list\n"
     ]
    }
   ],
   "source": [
    "a=[1,5,43,54,23,34,63,98,77,76,36,45,90,45,33,32,30,25,24,26]\n",
    "b=int(input(\"Input any number\"))\n",
    "if b in a:\n",
    "    print(b,\"The number is in the list\")\n",
    "else:\n",
    "    print(b,\"The number is not in the list\")"
   ]
  },
  {
   "cell_type": "markdown",
   "id": "8325ce7a",
   "metadata": {},
   "source": [
    "# 4) Merging two lists"
   ]
  },
  {
   "cell_type": "code",
   "execution_count": 8,
   "id": "9558476c",
   "metadata": {},
   "outputs": [
    {
     "name": "stdout",
     "output_type": "stream",
     "text": [
      "[1, 2, 3, 4, 5, 6, 7, 8, 9, 10]\n"
     ]
    }
   ],
   "source": [
    "a=[1,2,3,4,5]\n",
    "b=[6,7,8,9,10]\n",
    "ab=a+b\n",
    "print(ab)"
   ]
  },
  {
   "cell_type": "markdown",
   "id": "6338d466",
   "metadata": {},
   "source": [
    "# 5) To check any element in a list statiesfy a given condition"
   ]
  },
  {
   "cell_type": "code",
   "execution_count": 9,
   "id": "c6c4f3ff",
   "metadata": {},
   "outputs": [
    {
     "name": "stdout",
     "output_type": "stream",
     "text": [
      "9\n",
      "15\n",
      "75\n"
     ]
    }
   ],
   "source": [
    "a=[1,2,5,7,9,10,15,75,94]\n",
    "for x in a:\n",
    "    if x%3==0:\n",
    "        print(x)"
   ]
  },
  {
   "cell_type": "markdown",
   "id": "c75087c2",
   "metadata": {},
   "source": [
    "# 6) To check the users inputed number is prime or not"
   ]
  },
  {
   "cell_type": "code",
   "execution_count": null,
   "id": "d92f3cfa",
   "metadata": {},
   "outputs": [],
   "source": [
    "x=int(input(\"Input a number\"))\n",
    "v=0\n",
    "for i in range(2,x):\n",
    "    if x%i==0:\n",
    "        v=1\n",
    "        if (v==1):\n",
    "            print(\"It's not a prime number\")\n",
    "        else:\n",
    "            print(\"It's a prime number\")\n"
   ]
  },
  {
   "cell_type": "markdown",
   "id": "a362f2c6",
   "metadata": {},
   "source": [
    "#  7) Print the prime numbers in an interval"
   ]
  },
  {
   "cell_type": "code",
   "execution_count": 5,
   "id": "f4864dcc",
   "metadata": {},
   "outputs": [
    {
     "name": "stdout",
     "output_type": "stream",
     "text": [
      "Enter the first number of an interval79\n",
      "Enter the last number of an interval300\n"
     ]
    },
    {
     "ename": "NameError",
     "evalue": "name 'true' is not defined",
     "output_type": "error",
     "traceback": [
      "\u001b[1;31m---------------------------------------------------------------------------\u001b[0m",
      "\u001b[1;31mNameError\u001b[0m                                 Traceback (most recent call last)",
      "Cell \u001b[1;32mIn[5], line 4\u001b[0m\n\u001b[0;32m      2\u001b[0m end \u001b[38;5;241m=\u001b[39m \u001b[38;5;28mint\u001b[39m(\u001b[38;5;28minput\u001b[39m(\u001b[38;5;124m\"\u001b[39m\u001b[38;5;124mEnter the last number of an interval\u001b[39m\u001b[38;5;124m\"\u001b[39m))\n\u001b[0;32m      3\u001b[0m \u001b[38;5;28;01mfor\u001b[39;00m num \u001b[38;5;129;01min\u001b[39;00m \u001b[38;5;28mrange\u001b[39m(start,end):\n\u001b[1;32m----> 4\u001b[0m     prime\u001b[38;5;241m=\u001b[39mtrue\n\u001b[0;32m      5\u001b[0m     \u001b[38;5;28;01mif\u001b[39;00m num\u001b[38;5;241m<\u001b[39m\u001b[38;5;241m=\u001b[39m\u001b[38;5;241m1\u001b[39m:\n\u001b[0;32m      6\u001b[0m         prime \u001b[38;5;241m=\u001b[39m false\n",
      "\u001b[1;31mNameError\u001b[0m: name 'true' is not defined"
     ]
    }
   ],
   "source": [
    "start= int(input(\"Enter the first number of an interval\"))\n",
    "end = int(input(\"Enter the last number of an interval\"))\n",
    "for num in range(start,end):\n",
    "    prime=true\n",
    "    if num<=1:\n",
    "        prime = false\n",
    "    for i in range (2, int(math.sqrt(num)) + 1):\n",
    "        if num % i==0:\n",
    "            prime=false\n",
    "            break\n",
    "    if prime:\n",
    "        print(num)\n"
   ]
  },
  {
   "cell_type": "markdown",
   "id": "e1833054",
   "metadata": {},
   "source": [
    "#  8)  How much profit or loss occured"
   ]
  },
  {
   "cell_type": "code",
   "execution_count": null,
   "id": "c6fcddcf",
   "metadata": {},
   "outputs": [],
   "source": []
  },
  {
   "cell_type": "markdown",
   "id": "3113081b",
   "metadata": {},
   "source": [
    "#  9) Find the factorial of a number"
   ]
  },
  {
   "cell_type": "code",
   "execution_count": null,
   "id": "f69abf7b",
   "metadata": {},
   "outputs": [],
   "source": []
  },
  {
   "cell_type": "markdown",
   "id": "39b9981e",
   "metadata": {},
   "source": [
    "#  10) Check wheather the is amstrong or not"
   ]
  },
  {
   "cell_type": "code",
   "execution_count": null,
   "id": "12607eac",
   "metadata": {},
   "outputs": [],
   "source": []
  }
 ],
 "metadata": {
  "kernelspec": {
   "display_name": "Python 3 (ipykernel)",
   "language": "python",
   "name": "python3"
  },
  "language_info": {
   "codemirror_mode": {
    "name": "ipython",
    "version": 3
   },
   "file_extension": ".py",
   "mimetype": "text/x-python",
   "name": "python",
   "nbconvert_exporter": "python",
   "pygments_lexer": "ipython3",
   "version": "3.11.4"
  }
 },
 "nbformat": 4,
 "nbformat_minor": 5
}
